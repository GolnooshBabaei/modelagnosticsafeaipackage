{
 "cells": [
  {
   "cell_type": "markdown",
   "id": "364f2ea6",
   "metadata": {},
   "source": [
    "## In this notebook, we show a classification example using the employee dataset. In this example, the target variable is \"doubling_salary\" that shows if an employee would have a double or more salary. This binary target variable is equal to one when salary is doubled and zero otherwise. \n",
    "\n",
    "## The explanatory variables include age, edu, jobtime, prevexp, minority, gender, and jobcat. Definition of these explanatory variables is presented below. \n",
    "\n",
    "## Here we compare the results found by two packages: safeaipackage and modelagnosticsafeaipackage\n"
   ]
  },
  {
   "cell_type": "code",
   "execution_count": 3,
   "id": "99c9e2c5",
   "metadata": {},
   "outputs": [],
   "source": [
    "import pandas as pd\n",
    "import numpy as np\n",
    "import warnings\n",
    "import scipy\n",
    "import matplotlib.pyplot as plt\n",
    "import seaborn as sns\n",
    "from sklearn.model_selection import train_test_split\n",
    "from sklearn.ensemble import RandomForestClassifier\n",
    "from sklearn.linear_model import LogisticRegression\n",
    "from sklearn.dummy import DummyClassifier\n",
    "\n",
    "\n",
    "##safeaipackage\n",
    "from safeaipackage import check_accuracy as accuracy\n",
    "from safeaipackage import check_explainability as explainability\n",
    "from safeaipackage import check_fairness as fairness\n",
    "from safeaipackage import check_privacy as privacy\n",
    "from safeaipackage import check_robustness as robustness\n",
    "\n",
    "\n",
    "##modelagnosticsafeaipackage\n",
    "from modelagnosticsafeaipackage import check_accuracy as modelagnostic_accuracy\n",
    "from modelagnosticsafeaipackage import check_explainability as modelagnostic_explainability\n",
    "from modelagnosticsafeaipackage import check_fairness as modelagnostic_fairness\n",
    "from modelagnosticsafeaipackage import check_privacy as modelagnostic_privacy\n",
    "from modelagnosticsafeaipackage import check_robustness as modelagnostic_robustness\n",
    "\n",
    "\n",
    "warnings.filterwarnings('ignore')\n",
    "pd.set_option(\"display.max_rows\", 1000)\n",
    "pd.set_option(\"display.max_columns\", 10000)"
   ]
  },
  {
   "cell_type": "code",
   "execution_count": 4,
   "id": "82b793d3",
   "metadata": {
    "scrolled": true
   },
   "outputs": [
    {
     "name": "stdout",
     "output_type": "stream",
     "text": [
      "This dataset has 473 rows and 9 columns\n"
     ]
    },
    {
     "data": {
      "text/html": [
       "<div>\n",
       "<style scoped>\n",
       "    .dataframe tbody tr th:only-of-type {\n",
       "        vertical-align: middle;\n",
       "    }\n",
       "\n",
       "    .dataframe tbody tr th {\n",
       "        vertical-align: top;\n",
       "    }\n",
       "\n",
       "    .dataframe thead th {\n",
       "        text-align: right;\n",
       "    }\n",
       "</style>\n",
       "<table border=\"1\" class=\"dataframe\">\n",
       "  <thead>\n",
       "    <tr style=\"text-align: right;\">\n",
       "      <th></th>\n",
       "      <th>salary</th>\n",
       "      <th>age</th>\n",
       "      <th>edu</th>\n",
       "      <th>startsal</th>\n",
       "      <th>jobtime</th>\n",
       "      <th>prevexp</th>\n",
       "      <th>minority</th>\n",
       "      <th>gender</th>\n",
       "      <th>jobcat</th>\n",
       "    </tr>\n",
       "  </thead>\n",
       "  <tbody>\n",
       "    <tr>\n",
       "      <th>0</th>\n",
       "      <td>57000</td>\n",
       "      <td>36</td>\n",
       "      <td>15</td>\n",
       "      <td>27000</td>\n",
       "      <td>98</td>\n",
       "      <td>144</td>\n",
       "      <td>no_min</td>\n",
       "      <td>m</td>\n",
       "      <td>manager</td>\n",
       "    </tr>\n",
       "    <tr>\n",
       "      <th>1</th>\n",
       "      <td>40200</td>\n",
       "      <td>30</td>\n",
       "      <td>16</td>\n",
       "      <td>18750</td>\n",
       "      <td>98</td>\n",
       "      <td>36</td>\n",
       "      <td>no_min</td>\n",
       "      <td>m</td>\n",
       "      <td>Clerical</td>\n",
       "    </tr>\n",
       "    <tr>\n",
       "      <th>2</th>\n",
       "      <td>21450</td>\n",
       "      <td>59</td>\n",
       "      <td>12</td>\n",
       "      <td>12000</td>\n",
       "      <td>98</td>\n",
       "      <td>381</td>\n",
       "      <td>no_min</td>\n",
       "      <td>f</td>\n",
       "      <td>Clerical</td>\n",
       "    </tr>\n",
       "    <tr>\n",
       "      <th>3</th>\n",
       "      <td>21900</td>\n",
       "      <td>41</td>\n",
       "      <td>8</td>\n",
       "      <td>13200</td>\n",
       "      <td>98</td>\n",
       "      <td>190</td>\n",
       "      <td>no_min</td>\n",
       "      <td>f</td>\n",
       "      <td>Clerical</td>\n",
       "    </tr>\n",
       "    <tr>\n",
       "      <th>4</th>\n",
       "      <td>45000</td>\n",
       "      <td>33</td>\n",
       "      <td>15</td>\n",
       "      <td>21000</td>\n",
       "      <td>98</td>\n",
       "      <td>138</td>\n",
       "      <td>no_min</td>\n",
       "      <td>m</td>\n",
       "      <td>Clerical</td>\n",
       "    </tr>\n",
       "  </tbody>\n",
       "</table>\n",
       "</div>"
      ],
      "text/plain": [
       "   salary  age  edu  startsal  jobtime  prevexp minority gender    jobcat\n",
       "0   57000   36   15     27000       98      144   no_min      m   manager\n",
       "1   40200   30   16     18750       98       36   no_min      m  Clerical\n",
       "2   21450   59   12     12000       98      381   no_min      f  Clerical\n",
       "3   21900   41    8     13200       98      190   no_min      f  Clerical\n",
       "4   45000   33   15     21000       98      138   no_min      m  Clerical"
      ]
     },
     "execution_count": 4,
     "metadata": {},
     "output_type": "execute_result"
    }
   ],
   "source": [
    "data = pd.read_excel(\"employee.xlsx\")\n",
    "print(\"This dataset has {} rows and {} columns\".format(data.shape[0], data.shape[1]))\n",
    "data.head()"
   ]
  },
  {
   "attachments": {
    "Screenshot%202024-02-18%20142349.png": {
     "image/png": "[encoded data removed]"
    }
   },
   "cell_type": "markdown",
   "id": "c8da6e49",
   "metadata": {},
   "source": [
    "![Screenshot%202024-02-18%20142349.png](attachment:Screenshot%202024-02-18%20142349.png)"
   ]
  },
  {
   "cell_type": "code",
   "execution_count": 5,
   "id": "2676a648",
   "metadata": {},
   "outputs": [
    {
     "data": {
      "text/html": [
       "<div>\n",
       "<style scoped>\n",
       "    .dataframe tbody tr th:only-of-type {\n",
       "        vertical-align: middle;\n",
       "    }\n",
       "\n",
       "    .dataframe tbody tr th {\n",
       "        vertical-align: top;\n",
       "    }\n",
       "\n",
       "    .dataframe thead th {\n",
       "        text-align: right;\n",
       "    }\n",
       "</style>\n",
       "<table border=\"1\" class=\"dataframe\">\n",
       "  <thead>\n",
       "    <tr style=\"text-align: right;\">\n",
       "      <th></th>\n",
       "      <th>salary</th>\n",
       "      <th>age</th>\n",
       "      <th>edu</th>\n",
       "      <th>startsal</th>\n",
       "      <th>jobtime</th>\n",
       "      <th>prevexp</th>\n",
       "      <th>minority</th>\n",
       "      <th>gender</th>\n",
       "      <th>jobcat_Clerical</th>\n",
       "      <th>jobcat_Custodial</th>\n",
       "      <th>jobcat_manager</th>\n",
       "    </tr>\n",
       "  </thead>\n",
       "  <tbody>\n",
       "    <tr>\n",
       "      <th>0</th>\n",
       "      <td>57000</td>\n",
       "      <td>36</td>\n",
       "      <td>15</td>\n",
       "      <td>27000</td>\n",
       "      <td>98</td>\n",
       "      <td>144</td>\n",
       "      <td>0</td>\n",
       "      <td>0</td>\n",
       "      <td>0</td>\n",
       "      <td>0</td>\n",
       "      <td>1</td>\n",
       "    </tr>\n",
       "    <tr>\n",
       "      <th>1</th>\n",
       "      <td>40200</td>\n",
       "      <td>30</td>\n",
       "      <td>16</td>\n",
       "      <td>18750</td>\n",
       "      <td>98</td>\n",
       "      <td>36</td>\n",
       "      <td>0</td>\n",
       "      <td>0</td>\n",
       "      <td>1</td>\n",
       "      <td>0</td>\n",
       "      <td>0</td>\n",
       "    </tr>\n",
       "    <tr>\n",
       "      <th>2</th>\n",
       "      <td>21450</td>\n",
       "      <td>59</td>\n",
       "      <td>12</td>\n",
       "      <td>12000</td>\n",
       "      <td>98</td>\n",
       "      <td>381</td>\n",
       "      <td>0</td>\n",
       "      <td>1</td>\n",
       "      <td>1</td>\n",
       "      <td>0</td>\n",
       "      <td>0</td>\n",
       "    </tr>\n",
       "    <tr>\n",
       "      <th>3</th>\n",
       "      <td>21900</td>\n",
       "      <td>41</td>\n",
       "      <td>8</td>\n",
       "      <td>13200</td>\n",
       "      <td>98</td>\n",
       "      <td>190</td>\n",
       "      <td>0</td>\n",
       "      <td>1</td>\n",
       "      <td>1</td>\n",
       "      <td>0</td>\n",
       "      <td>0</td>\n",
       "    </tr>\n",
       "    <tr>\n",
       "      <th>4</th>\n",
       "      <td>45000</td>\n",
       "      <td>33</td>\n",
       "      <td>15</td>\n",
       "      <td>21000</td>\n",
       "      <td>98</td>\n",
       "      <td>138</td>\n",
       "      <td>0</td>\n",
       "      <td>0</td>\n",
       "      <td>1</td>\n",
       "      <td>0</td>\n",
       "      <td>0</td>\n",
       "    </tr>\n",
       "  </tbody>\n",
       "</table>\n",
       "</div>"
      ],
      "text/plain": [
       "   salary  age  edu  startsal  jobtime  prevexp  minority  gender  \\\n",
       "0   57000   36   15     27000       98      144         0       0   \n",
       "1   40200   30   16     18750       98       36         0       0   \n",
       "2   21450   59   12     12000       98      381         0       1   \n",
       "3   21900   41    8     13200       98      190         0       1   \n",
       "4   45000   33   15     21000       98      138         0       0   \n",
       "\n",
       "   jobcat_Clerical  jobcat_Custodial  jobcat_manager  \n",
       "0                0                 0               1  \n",
       "1                1                 0               0  \n",
       "2                1                 0               0  \n",
       "3                1                 0               0  \n",
       "4                1                 0               0  "
      ]
     },
     "execution_count": 5,
     "metadata": {},
     "output_type": "execute_result"
    }
   ],
   "source": [
    "data[\"gender\"] = np.where(data[\"gender\"]==\"m\", 0, 1)\n",
    "data[\"minority\"] = np.where(data[\"minority\"]==\"no_min\", 0, 1)\n",
    "data = pd.get_dummies(data, columns=[\"jobcat\"])\n",
    "data.head()"
   ]
  },
  {
   "cell_type": "code",
   "execution_count": 6,
   "id": "fc4bb2e3",
   "metadata": {},
   "outputs": [
    {
     "data": {
      "text/plain": [
       "0    253\n",
       "1    220\n",
       "Name: doubling_salary, dtype: int64"
      ]
     },
     "execution_count": 6,
     "metadata": {},
     "output_type": "execute_result"
    }
   ],
   "source": [
    "data[\"doubling_salary\"] = np.where(data[\"salary\"]/data[\"startsal\"] > 2,1,0)\n",
    "\n",
    "data[\"doubling_salary\"].value_counts()"
   ]
  },
  {
   "cell_type": "code",
   "execution_count": 7,
   "id": "a7063206",
   "metadata": {},
   "outputs": [
    {
     "name": "stdout",
     "output_type": "stream",
     "text": [
      "(331, 9)\n",
      "(142, 9)\n"
     ]
    }
   ],
   "source": [
    "X = data.drop([\"doubling_salary\", \"salary\", \"startsal\"], axis=1)\n",
    "y = data[\"doubling_salary\"]\n",
    "\n",
    "xtrain, xtest, ytrain, ytest = train_test_split(X, y, test_size=0.3, random_state=1)\n",
    "\n",
    "print(xtrain.shape)\n",
    "print(xtest.shape)"
   ]
  },
  {
   "cell_type": "markdown",
   "id": "615462d9",
   "metadata": {},
   "source": [
    "# ACCURACY"
   ]
  },
  {
   "cell_type": "code",
   "execution_count": 8,
   "id": "8cdb0234",
   "metadata": {},
   "outputs": [],
   "source": [
    "accuracy_obj = accuracy.Accuracy(xtrain, xtest, ytrain, ytest, RandomForestClassifier(random_state=1))"
   ]
  },
  {
   "cell_type": "code",
   "execution_count": 9,
   "id": "25828063",
   "metadata": {},
   "outputs": [
    {
     "data": {
      "text/plain": [
       "0.6848958333333334"
      ]
     },
     "execution_count": 9,
     "metadata": {},
     "output_type": "execute_result"
    }
   ],
   "source": [
    "accuracy_obj.rga()"
   ]
  },
  {
   "cell_type": "code",
   "execution_count": 10,
   "id": "9402e4cd",
   "metadata": {},
   "outputs": [
    {
     "data": {
      "text/plain": [
       "0.6848958333333334"
      ]
     },
     "execution_count": 10,
     "metadata": {},
     "output_type": "execute_result"
    }
   ],
   "source": [
    "model = RandomForestClassifier(random_state=1).fit(xtrain, ytrain)\n",
    "yhat = model.predict(xtest)\n",
    "rga_modelagnostic = modelagnostic_accuracy.rga(ytest, yhat)\n",
    "\n",
    "rga_modelagnostic"
   ]
  },
  {
   "cell_type": "markdown",
   "id": "2cdef63f",
   "metadata": {},
   "source": [
    "### In the following command, since the input \"variable\" is given, the test is done to compare the predictive accuracy of the full Random Forest model with that of a reduced Random Forest model without \"age\""
   ]
  },
  {
   "cell_type": "code",
   "execution_count": 11,
   "id": "e5f2295b",
   "metadata": {},
   "outputs": [
    {
     "data": {
      "text/plain": [
       "0.4257515747103916"
      ]
     },
     "execution_count": 11,
     "metadata": {},
     "output_type": "execute_result"
    }
   ],
   "source": [
    "accuracy_obj.rga_statistic_test(\"classification\", \"age\")"
   ]
  },
  {
   "cell_type": "code",
   "execution_count": 12,
   "id": "0b48e863",
   "metadata": {},
   "outputs": [
    {
     "data": {
      "text/plain": [
       "0.4257515747103915"
      ]
     },
     "execution_count": 12,
     "metadata": {},
     "output_type": "execute_result"
    }
   ],
   "source": [
    "xtrain_rm = xtrain.drop(\"age\", axis=1)\n",
    "xtest_rm = xtest.drop(\"age\", axis=1)\n",
    "model_rm = RandomForestClassifier(random_state=1).fit(xtrain_rm, ytrain)\n",
    "yhat_rm = model_rm.predict(xtest_rm)\n",
    "modelagnostic_accuracy.rga_statistic_test(ytest, yhat_rm, yhat)"
   ]
  },
  {
   "cell_type": "markdown",
   "id": "2aaa462c",
   "metadata": {},
   "source": [
    "# EXPLAINABILITY"
   ]
  },
  {
   "cell_type": "code",
   "execution_count": 13,
   "id": "1411abc2",
   "metadata": {},
   "outputs": [],
   "source": [
    "explainability_obj = explainability.Explainability(xtrain, xtest, ytrain, ytest, RandomForestClassifier(random_state=1))"
   ]
  },
  {
   "cell_type": "code",
   "execution_count": 14,
   "id": "a0734303",
   "metadata": {},
   "outputs": [
    {
     "data": {
      "image/png": "[encoded data removed]",
      "text/plain": [
       "<Figure size 720x432 with 1 Axes>"
      ]
     },
     "metadata": {
      "needs_background": "light"
     },
     "output_type": "display_data"
    },
    {
     "data": {
      "text/html": [
       "<div>\n",
       "<style scoped>\n",
       "    .dataframe tbody tr th:only-of-type {\n",
       "        vertical-align: middle;\n",
       "    }\n",
       "\n",
       "    .dataframe tbody tr th {\n",
       "        vertical-align: top;\n",
       "    }\n",
       "\n",
       "    .dataframe thead th {\n",
       "        text-align: right;\n",
       "    }\n",
       "</style>\n",
       "<table border=\"1\" class=\"dataframe\">\n",
       "  <thead>\n",
       "    <tr style=\"text-align: right;\">\n",
       "      <th></th>\n",
       "      <th>RGE</th>\n",
       "    </tr>\n",
       "  </thead>\n",
       "  <tbody>\n",
       "    <tr>\n",
       "      <th>jobtime</th>\n",
       "      <td>0.211268</td>\n",
       "    </tr>\n",
       "    <tr>\n",
       "      <th>age</th>\n",
       "      <td>0.190141</td>\n",
       "    </tr>\n",
       "    <tr>\n",
       "      <th>prevexp</th>\n",
       "      <td>0.119718</td>\n",
       "    </tr>\n",
       "    <tr>\n",
       "      <th>edu</th>\n",
       "      <td>0.105634</td>\n",
       "    </tr>\n",
       "    <tr>\n",
       "      <th>jobcat_Clerical</th>\n",
       "      <td>0.098592</td>\n",
       "    </tr>\n",
       "    <tr>\n",
       "      <th>jobcat_manager</th>\n",
       "      <td>0.098592</td>\n",
       "    </tr>\n",
       "    <tr>\n",
       "      <th>minority</th>\n",
       "      <td>0.091549</td>\n",
       "    </tr>\n",
       "    <tr>\n",
       "      <th>gender</th>\n",
       "      <td>0.063380</td>\n",
       "    </tr>\n",
       "    <tr>\n",
       "      <th>jobcat_Custodial</th>\n",
       "      <td>0.056338</td>\n",
       "    </tr>\n",
       "  </tbody>\n",
       "</table>\n",
       "</div>"
      ],
      "text/plain": [
       "                       RGE\n",
       "jobtime           0.211268\n",
       "age               0.190141\n",
       "prevexp           0.119718\n",
       "edu               0.105634\n",
       "jobcat_Clerical   0.098592\n",
       "jobcat_manager    0.098592\n",
       "minority          0.091549\n",
       "gender            0.063380\n",
       "jobcat_Custodial  0.056338"
      ]
     },
     "execution_count": 14,
     "metadata": {},
     "output_type": "execute_result"
    }
   ],
   "source": [
    "explainability_obj.rge()"
   ]
  },
  {
   "cell_type": "code",
   "execution_count": 15,
   "id": "f0da9d47",
   "metadata": {},
   "outputs": [
    {
     "data": {
      "text/plain": [
       "0.1901408450704225"
      ]
     },
     "execution_count": 15,
     "metadata": {},
     "output_type": "execute_result"
    }
   ],
   "source": [
    "xtrain_jobtime = xtrain.drop(\"age\", axis=1)\n",
    "xtest_jobtime = xtest.drop(\"age\", axis=1)\n",
    "model_jobtime = RandomForestClassifier(random_state=1).fit(xtrain_jobtime, ytrain)\n",
    "yhat_jobtime = model_jobtime.predict(xtest_jobtime)\n",
    "modelagnostic_explainability.rge(yhat, yhat_jobtime)"
   ]
  },
  {
   "cell_type": "code",
   "execution_count": 16,
   "id": "e710d9ce",
   "metadata": {},
   "outputs": [
    {
     "data": {
      "text/plain": [
       "4.317782439535485e-09"
      ]
     },
     "execution_count": 16,
     "metadata": {},
     "output_type": "execute_result"
    }
   ],
   "source": [
    "explainability_obj.rge_statistic_test(\"age\")"
   ]
  },
  {
   "cell_type": "code",
   "execution_count": 17,
   "id": "ad9da13e",
   "metadata": {},
   "outputs": [
    {
     "data": {
      "text/plain": [
       "4.317782439535485e-09"
      ]
     },
     "execution_count": 17,
     "metadata": {},
     "output_type": "execute_result"
    }
   ],
   "source": [
    "modelagnostic_explainability.rge_statistic_test(yhat, yhat_jobtime)"
   ]
  },
  {
   "cell_type": "markdown",
   "id": "841a8d90",
   "metadata": {},
   "source": [
    "# ROBUSTNESS"
   ]
  },
  {
   "cell_type": "code",
   "execution_count": 18,
   "id": "65dcb1ab",
   "metadata": {},
   "outputs": [],
   "source": [
    "robustness_obj = robustness.Robustness(xtrain, xtest, ytrain, ytest, RandomForestClassifier(random_state=1))"
   ]
  },
  {
   "cell_type": "code",
   "execution_count": 19,
   "id": "5eb81027",
   "metadata": {},
   "outputs": [
    {
     "data": {
      "text/plain": [
       "0.9084507042253521"
      ]
     },
     "execution_count": 19,
     "metadata": {},
     "output_type": "execute_result"
    }
   ],
   "source": [
    "robustness_obj.rgr_single(\"prevexp\")"
   ]
  },
  {
   "cell_type": "code",
   "execution_count": 20,
   "id": "7c8a6394",
   "metadata": {},
   "outputs": [],
   "source": [
    "## the following code lines are related to the perturbation process done in the safeaipackage \n",
    "\n",
    "traindata_ = xtrain.reset_index(drop=True)\n",
    "perturbed_variable = traindata_.loc[:,\"prevexp\"]\n",
    "vals = [[i, values] for i, values in enumerate(perturbed_variable)]\n",
    "indices = [x[0] for x in sorted(vals, key= lambda item: item[1])]\n",
    "sorted_variable = [x[1] for x in sorted(vals, key= lambda item: item[1])]\n",
    "percentile_5_index = int(np.ceil(0.05 * len(sorted_variable)))\n",
    "percentile_95_index = int(np.ceil((1-0.05) * len(sorted_variable)))\n",
    "values_before_5th_percentile = sorted_variable[:percentile_5_index]\n",
    "values_after_95th_percentile = sorted_variable[percentile_95_index:]\n",
    "n = min([len(values_before_5th_percentile), len(values_after_95th_percentile)])\n",
    "lowertail_indices = indices[0:n]\n",
    "uppertail_indices = (indices[-n:])\n",
    "uppertail_indices = uppertail_indices[::-1]\n",
    "new_variable = perturbed_variable.copy()\n",
    "for j in range(n):\n",
    "    new_variable[lowertail_indices[j]] = perturbed_variable[uppertail_indices[j]]\n",
    "    new_variable[uppertail_indices[j]] = perturbed_variable[lowertail_indices[j]]\n",
    "traindata_.loc[:,\"prevexp\"] = new_variable"
   ]
  },
  {
   "cell_type": "code",
   "execution_count": 21,
   "id": "1a554d1e",
   "metadata": {},
   "outputs": [
    {
     "data": {
      "text/plain": [
       "0.9084507042253521"
      ]
     },
     "execution_count": 21,
     "metadata": {},
     "output_type": "execute_result"
    }
   ],
   "source": [
    "model_pert = RandomForestClassifier(random_state=1).fit(traindata_, ytrain)\n",
    "yhat_pert = model_pert.predict(xtest)\n",
    "\n",
    "modelagnostic_robustness.rgr(yhat, yhat_pert)"
   ]
  },
  {
   "cell_type": "code",
   "execution_count": 22,
   "id": "7d40c93d",
   "metadata": {
    "scrolled": true
   },
   "outputs": [
    {
     "data": {
      "text/plain": [
       "0.06519152511169134"
      ]
     },
     "execution_count": 22,
     "metadata": {},
     "output_type": "execute_result"
    }
   ],
   "source": [
    "robustness_obj.rgr_statistic_test(\"classification\", LogisticRegression(random_state=1),\"prevexp\")"
   ]
  },
  {
   "cell_type": "code",
   "execution_count": 23,
   "id": "a799b0b1",
   "metadata": {},
   "outputs": [],
   "source": [
    "model2 = LogisticRegression(random_state=1).fit(xtrain, ytrain)\n",
    "yhat_mod2 = model2.predict(xtest)\n",
    "model2_pert = LogisticRegression(random_state=1).fit(traindata_, ytrain)\n",
    "yhat_mode2_pert = model2_pert.predict(xtest)"
   ]
  },
  {
   "cell_type": "code",
   "execution_count": 24,
   "id": "c0f208fa",
   "metadata": {},
   "outputs": [
    {
     "data": {
      "text/plain": [
       "0.06519152511169134"
      ]
     },
     "execution_count": 24,
     "metadata": {},
     "output_type": "execute_result"
    }
   ],
   "source": [
    "modelagnostic_robustness.rgr_statistic_test(yhat,yhat_mod2,yhat_pert,yhat_mode2_pert)"
   ]
  },
  {
   "cell_type": "markdown",
   "id": "93322647",
   "metadata": {},
   "source": [
    "# FAIRNESS"
   ]
  },
  {
   "cell_type": "code",
   "execution_count": 25,
   "id": "9ea7aac1",
   "metadata": {},
   "outputs": [],
   "source": [
    "fairness_obj = fairness.Fairness(xtrain, xtest, ytrain, ytest, RandomForestClassifier(random_state=1))"
   ]
  },
  {
   "cell_type": "code",
   "execution_count": 26,
   "id": "3893d787",
   "metadata": {
    "scrolled": true
   },
   "outputs": [
    {
     "data": {
      "text/html": [
       "<div>\n",
       "<style scoped>\n",
       "    .dataframe tbody tr th:only-of-type {\n",
       "        vertical-align: middle;\n",
       "    }\n",
       "\n",
       "    .dataframe tbody tr th {\n",
       "        vertical-align: top;\n",
       "    }\n",
       "\n",
       "    .dataframe thead th {\n",
       "        text-align: right;\n",
       "    }\n",
       "</style>\n",
       "<table border=\"1\" class=\"dataframe\">\n",
       "  <thead>\n",
       "    <tr style=\"text-align: right;\">\n",
       "      <th></th>\n",
       "      <th>RGF</th>\n",
       "    </tr>\n",
       "  </thead>\n",
       "  <tbody>\n",
       "    <tr>\n",
       "      <th>gender</th>\n",
       "      <td>0.93662</td>\n",
       "    </tr>\n",
       "  </tbody>\n",
       "</table>\n",
       "</div>"
      ],
      "text/plain": [
       "            RGF\n",
       "gender  0.93662"
      ]
     },
     "execution_count": 26,
     "metadata": {},
     "output_type": "execute_result"
    }
   ],
   "source": [
    "fairness_obj.rgf([\"gender\"])"
   ]
  },
  {
   "cell_type": "code",
   "execution_count": 27,
   "id": "75a1d8d8",
   "metadata": {},
   "outputs": [
    {
     "data": {
      "text/plain": [
       "0.9366197183098594"
      ]
     },
     "execution_count": 27,
     "metadata": {},
     "output_type": "execute_result"
    }
   ],
   "source": [
    "xtrain_gender = xtrain.drop(\"gender\", axis=1)\n",
    "xtest_gender = xtest.drop(\"gender\", axis=1)\n",
    "model_gender = RandomForestClassifier(random_state=1).fit(xtrain_gender, ytrain)\n",
    "yhat_gender = model_gender.predict(xtest_gender)\n",
    "modelagnostic_fairness.rgf(yhat, yhat_gender)"
   ]
  },
  {
   "cell_type": "code",
   "execution_count": 28,
   "id": "7bdd596c",
   "metadata": {},
   "outputs": [
    {
     "data": {
      "text/plain": [
       "0.0017927555084747172"
      ]
     },
     "execution_count": 28,
     "metadata": {},
     "output_type": "execute_result"
    }
   ],
   "source": [
    "fairness_obj.rgf_statistic_test(\"gender\")"
   ]
  },
  {
   "cell_type": "code",
   "execution_count": 29,
   "id": "f29a50ea",
   "metadata": {},
   "outputs": [
    {
     "data": {
      "text/plain": [
       "0.0017927555084747172"
      ]
     },
     "execution_count": 29,
     "metadata": {},
     "output_type": "execute_result"
    }
   ],
   "source": [
    "modelagnostic_fairness.rgf_statistic_test(yhat, yhat_gender)"
   ]
  },
  {
   "cell_type": "markdown",
   "id": "c9a20e94",
   "metadata": {},
   "source": [
    "# PRIVACY"
   ]
  },
  {
   "cell_type": "code",
   "execution_count": 30,
   "id": "a14b1109",
   "metadata": {},
   "outputs": [],
   "source": [
    "privacy_obj = privacy.Privacy(xtrain, xtest, ytrain, ytest, RandomForestClassifier(random_state=1))"
   ]
  },
  {
   "cell_type": "code",
   "execution_count": 31,
   "id": "14f21b19",
   "metadata": {},
   "outputs": [
    {
     "data": {
      "text/html": [
       "<div>\n",
       "<style scoped>\n",
       "    .dataframe tbody tr th:only-of-type {\n",
       "        vertical-align: middle;\n",
       "    }\n",
       "\n",
       "    .dataframe tbody tr th {\n",
       "        vertical-align: top;\n",
       "    }\n",
       "\n",
       "    .dataframe thead th {\n",
       "        text-align: right;\n",
       "    }\n",
       "</style>\n",
       "<table border=\"1\" class=\"dataframe\">\n",
       "  <thead>\n",
       "    <tr style=\"text-align: right;\">\n",
       "      <th></th>\n",
       "      <th>RGP</th>\n",
       "    </tr>\n",
       "  </thead>\n",
       "  <tbody>\n",
       "    <tr>\n",
       "      <th>10</th>\n",
       "      <td>0.943662</td>\n",
       "    </tr>\n",
       "    <tr>\n",
       "      <th>12</th>\n",
       "      <td>0.929577</td>\n",
       "    </tr>\n",
       "  </tbody>\n",
       "</table>\n",
       "</div>"
      ],
      "text/plain": [
       "         RGP\n",
       "10  0.943662\n",
       "12  0.929577"
      ]
     },
     "execution_count": 31,
     "metadata": {},
     "output_type": "execute_result"
    }
   ],
   "source": [
    "privacy_obj.rgp([10, 12])"
   ]
  },
  {
   "cell_type": "code",
   "execution_count": 32,
   "id": "9755c074",
   "metadata": {},
   "outputs": [
    {
     "data": {
      "text/plain": [
       "0.9436619718309859"
      ]
     },
     "execution_count": 32,
     "metadata": {},
     "output_type": "execute_result"
    }
   ],
   "source": [
    "xtrain.reset_index(drop=True, inplace=True)\n",
    "ytrain.reset_index(drop=True, inplace=True)\n",
    "\n",
    "xtrain_10 = xtrain.drop(10, axis=0)\n",
    "ytrain_10 = ytrain.drop(10, axis=0)\n",
    "\n",
    "model_10 = RandomForestClassifier(random_state=1).fit(xtrain_10, ytrain_10)\n",
    "yhat_10 = model_10.predict(xtest)\n",
    "modelagnostic_privacy.rgp(yhat, yhat_10)"
   ]
  },
  {
   "cell_type": "code",
   "execution_count": 33,
   "id": "261ee07c",
   "metadata": {},
   "outputs": [
    {
     "data": {
      "text/plain": [
       "0.0034180095734045375"
      ]
     },
     "execution_count": 33,
     "metadata": {},
     "output_type": "execute_result"
    }
   ],
   "source": [
    "privacy_obj.rgp_statistic_test(10)"
   ]
  },
  {
   "cell_type": "code",
   "execution_count": 35,
   "id": "6626f7be",
   "metadata": {
    "scrolled": true
   },
   "outputs": [
    {
     "data": {
      "text/plain": [
       "0.0034180095734045375"
      ]
     },
     "execution_count": 35,
     "metadata": {},
     "output_type": "execute_result"
    }
   ],
   "source": [
    "modelagnostic_privacy.rgp_statistic_test(yhat, yhat_10)"
   ]
  }
 ],
 "metadata": {
  "kernelspec": {
   "display_name": "Python 3",
   "language": "python",
   "name": "python3"
  },
  "language_info": {
   "codemirror_mode": {
    "name": "ipython",
    "version": 3
   },
   "file_extension": ".py",
   "mimetype": "text/x-python",
   "name": "python",
   "nbconvert_exporter": "python",
   "pygments_lexer": "ipython3",
   "version": "3.8.8"
  }
 },
 "nbformat": 4,
 "nbformat_minor": 5
}
